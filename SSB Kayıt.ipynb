{
 "cells": [
  {
   "cell_type": "markdown",
   "metadata": {},
   "source": [
    "# SSB Kayıt "
   ]
  },
  {
   "cell_type": "markdown",
   "metadata": {},
   "source": [
    "\n",
    "## Step 1: Waiting for the Next Period Reading\n",
    "- **State Number**: 1\n",
    "- **State Code**: -\n",
    "- **State Name**: Waiting for the Next Period Reading\n",
    "- **Description**: This step waits for the periodic reading after the SSB registration date to trigger the creation of accrual. The system listens for an event (`thor-billing-accrual-created`) to confirm the accrual data and proceeds based on this information.\n",
    "- **Status**: Pending"
   ]
  },
  {
   "cell_type": "markdown",
   "metadata": {},
   "source": [
    "#### 1a. Çalışma öncesi Script"
   ]
  },
  {
   "cell_type": "markdown",
   "metadata": {},
   "source": [
    "#### 1b. İstek Eşleştirme Scripti"
   ]
  },
  {
   "cell_type": "markdown",
   "metadata": {},
   "source": [
    "#### 1c. State Context Değer Tutma "
   ]
  },
  {
   "cell_type": "markdown",
   "metadata": {},
   "source": [
    "#### 1d. Çalışma Sonrası Script"
   ]
  },
  {
   "cell_type": "markdown",
   "metadata": {},
   "source": [
    "#### 1e. İş Mantığı"
   ]
  },
  {
   "cell_type": "markdown",
   "metadata": {},
   "source": [
    "## Step 2: Contract Terminated\n",
    "- **State Number**: 2\n",
    "- **State Code**: -\n",
    "- **State Name**: Contract Terminated\n",
    "- **Description**: This step ensures that the contract is terminated under specific rules for different subscriber groups. If the contract is not renewed, it terminates based on the subscriber group being \"Industrial.\" Public and private service sectors contracts are also considered for termination.\n",
    "- **Status**: Done"
   ]
  },
  {
   "cell_type": "markdown",
   "metadata": {},
   "source": [
    "#### 2a. Çalışma Öncesi Scripti"
   ]
  },
  {
   "cell_type": "code",
   "execution_count": null,
   "metadata": {},
   "outputs": [],
   "source": [
    "# machine                     : Currently executing machine instance\n",
    "# state                       : Currently executing state instance\n",
    "# request_data                : Original trigger data\n",
    "# context                     : Machine stored context (1. Muhatap(ID), 2. Tesisat(ID), 3. Sözleşme)\n",
    "# state_responses_of_machine  : State responses of Machine <StateCode, {prev, current, webhook}>\n",
    "# return\n",
    "#     json input of business logic service\n",
    "import json\n",
    "from datetime import datetime\n",
    "def state_handler(machine, state, request_data, context, state_response_of_machine):\n",
    "    \n",
    "    current_date = datetime.now().strftime('%Y%m%d') + '000000'\n",
    "\n",
    "    \n",
    "    subscriberGroup = next((attr for attr in request_data['attributes'] if attr['attribute']['attributeCode']=='SubscriberGroup'),None)['values'][0]['value']\n",
    "    ssbDocEndDate = next((attr for attr in request_data['attributes'] if attr['attribute']['attributeCode']=='SsbDocumentEndDate'),None)['value']\n",
    "\n",
    "\n",
    "    \n",
    "    if request_data['isNew'] == True and subscriberGroup == 'SA':\n",
    "        if ssbDocEndDate > current_date:\n",
    "            return {\"success\": True, \"goto\": \"10340003\"}\n",
    "        else:\n",
    "            return {\"success\": True, \"error\": {\"code\": \"END\", \"detail\": \"SsbDocumentEndDate\"}}\n",
    "\n",
    "    elif request_data['isNew'] == False and subscriberGroup == 'KO':\n",
    "        return {\"success\": True, \"goto\": \"10340003\"}\n",
    "    else :\n",
    "        return {\"success\": True, \"error\": {\"code\": \"END\", \"detail\": \"Subscriber Group\"}}\n",
    "\n"
   ]
  },
  {
   "cell_type": "markdown",
   "metadata": {},
   "source": [
    "#### 2b. İstek Eşleştirme Scripti"
   ]
  },
  {
   "cell_type": "code",
   "execution_count": 5,
   "metadata": {},
   "outputs": [],
   "source": [
    "# machine              : Currently executing machine instance\n",
    "# state                : Currently executing state instance\n",
    "# request_data         : Original trigger data\n",
    "# context              : Machine stored context\n",
    "# prev_state_response  : Previous executed state business logic response\n",
    "# return\n",
    "#     json result of business/mapping\n",
    "import json\n",
    "from datetime import datetime\n",
    "\n",
    "def state_handler(machine, state, request_data, context, state_response_of_machine) -> json:  \n",
    "    \n",
    "    current_date = datetime.now().strftime('%Y%m%d') + '000000'\n",
    "    \n",
    "    data = {\n",
    "        \"id\": request_data[\"id\"],\n",
    "        \"attributes\": [\n",
    "            {\n",
    "                \"attribute\": {\n",
    "                    \"attributeCode\": \"ContractCancellationDate\"\n",
    "                },\n",
    "                \"value\":current_date\n",
    "            },\n",
    "            {\n",
    "                \"attribute\": {\n",
    "                    \"attributeCode\": \"ContractCancellationRequestDate\"\n",
    "                },\n",
    "                \"value\": current_date\n",
    "            },\n",
    "            {\n",
    "                \"attribute\": {\n",
    "                    \"attributeCode\": \"ContractCancellationReason\"\n",
    "                },\n",
    "                \"value\": \"SubscriberRequest\"  \n",
    "            },\n",
    "            {\n",
    "                \"attribute\": {\n",
    "                    \"attributeCode\": \"ContractNumber\"\n",
    "                },\n",
    "                \"value\": next((attr['value'] for attr in request_data['attributes'] \n",
    "                               if attr['attribute']['attributeCode'] == \"ContractNumber\"), None)\n",
    "            }\n",
    "        ],\n",
    "        \"authorityGroup\": request_data[\"authorityGroup\"],\n",
    "        \"contractLockID\": \"string\"  \n",
    "    }\n",
    "    \n",
    "    return json.dumps(data, indent=4)\n"
   ]
  },
  {
   "cell_type": "markdown",
   "metadata": {},
   "source": [
    "#### 2c. State Context Değer Tutma Scripti"
   ]
  },
  {
   "cell_type": "markdown",
   "metadata": {},
   "source": [
    "#### 2d. Çalışma Sonrası Scripti"
   ]
  },
  {
   "cell_type": "markdown",
   "metadata": {},
   "source": [
    "## Step 3: Data Preparation for New Account\n",
    "- **State Number**: 3\n",
    "- **State Code**: -\n",
    "- **State Name**: Data Preparation for New Account\n",
    "- **Description**: In this step, the system prepares the data needed to create a new account. The necessary attribute values are gathered from the terminated contract and associated account details.\n",
    "- **Status**: Pending"
   ]
  },
  {
   "cell_type": "markdown",
   "metadata": {},
   "source": [
    "#### 3a. Çalışma Öncesi Script"
   ]
  },
  {
   "cell_type": "markdown",
   "metadata": {},
   "source": [
    "#### 3b. İstek Eşleştirme Scripti"
   ]
  },
  {
   "cell_type": "code",
   "execution_count": null,
   "metadata": {},
   "outputs": [],
   "source": [
    "# machine              : Currently executing machine instance\n",
    "# state                : Currently executing state instance\n",
    "# request_data         : Original trigger data\n",
    "# context              : Machine stored context\n",
    "# prev_state_response  : Previous executed state business logic response\n",
    "# return\n",
    "#     json result of business/mapping\n",
    "import json\n",
    "from datetime import datetime\n",
    "\n",
    "def state_handler(machine, state, request_data, context, state_response_of_machine) -> json:  \n",
    "    contractAccountId = next((attr for attr in request_data['attributes'] if attr['attribute']['attributeCode']=='ContractAccountId'),None)['value']\n",
    "\n",
    "    return {\"assetid\":contractAccountId}"
   ]
  },
  {
   "cell_type": "markdown",
   "metadata": {},
   "source": [
    "#### 3c. State Context Değer Tutma Scripti"
   ]
  },
  {
   "cell_type": "markdown",
   "metadata": {},
   "source": [
    "#### 3d. Çalışma Sonrası Scripti "
   ]
  },
  {
   "cell_type": "markdown",
   "metadata": {},
   "source": [
    "## Step 4: New Account Created\n",
    "- **State Number**: 4\n",
    "- **State Code**: -\n",
    "- **State Name**: New Account Created\n",
    "- **Description**: This step creates a new account based on the details of the terminated contract. Some attribute values may differ, and these changes are reflected in the new account. Historical data for the old account is also updated to match the new expiry dates.\n",
    "- **Status**: Pending\n"
   ]
  },
  {
   "cell_type": "markdown",
   "metadata": {},
   "source": [
    "#### 4A. Çalışma Öncesi Scripti"
   ]
  },
  {
   "cell_type": "markdown",
   "metadata": {},
   "source": [
    "#### 4B. İstek Eşleştirme Scripti"
   ]
  },
  {
   "cell_type": "code",
   "execution_count": null,
   "metadata": {},
   "outputs": [],
   "source": [
    "# machine              : Currently executing machine instance\n",
    "# state                : Currently executing state instance\n",
    "# request_data         : Original trigger data\n",
    "# context              : Machine stored context\n",
    "# prev_state_response  : Previous executed state business logic response\n",
    "# return\n",
    "#     json result of business/mapping\n",
    "import json\n",
    "from datetime import datetime\n",
    "\n",
    "def state_handler(machine, state, request_data, context, state_response_of_machine):\n",
    "\n",
    "    prev_state_response = state_response_of_machine\n",
    "    \n",
    "    create_date = next((attr for attr in prev_state_response['attributes'] if attr['attribute']['attributeCode'] == 'CreateDate'),None)['value'] \n",
    "    \n",
    "    AccountClassCode = 1\n",
    "    TaxClass = 2\n",
    "    AccountGLCode = 3\n",
    "    AccountSubscriberGroup = 4\n",
    "    \n",
    "    changes_dict = {'AccountClassCode': AccountClassCode,\n",
    "                    'TaxClass': TaxClass,\n",
    "                    'AccountGLCode': AccountGLCode,\n",
    "                    'ExpiryDate':create_date\n",
    "                    }\n",
    "    \n",
    "    \n",
    "    if AccountSubscriberGroup == 'IndustrySubscriberGroup':\n",
    "        changes_dict['AccountSubscriberGroup'] = 'PAPSSAOSG'\n",
    "    else:\n",
    "        changes_dict['AccountSubscriberGroup'] = 'IndustrySubscriberGroup'\n",
    "    \n",
    "    copied_json = {}\n",
    "    stack = [(copied_json, prev_state_response)]\n",
    "\n",
    "    # Copy context to copied_json without id\n",
    "    while stack:\n",
    "        current_copied, current_original = stack.pop()\n",
    "\n",
    "        for key, value in current_original.items():\n",
    "            if key != 'id':\n",
    "                if isinstance(value, list):\n",
    "                    new_list = []\n",
    "                    for item in value:\n",
    "                        if isinstance(item, dict):\n",
    "                            new_item = {}\n",
    "                            new_list.append(new_item)\n",
    "                            stack.append((new_item, item))\n",
    "                        else:\n",
    "                            new_list.append(item)\n",
    "                    current_copied[key] = new_list\n",
    "                elif isinstance(value, dict):\n",
    "                    new_dict = {}\n",
    "                    current_copied[key] = new_dict\n",
    "                    stack.append((new_dict, value))\n",
    "                else:\n",
    "                    current_copied[key] = value\n",
    "    \n",
    "    for code, new_value in changes_dict.items():\n",
    "        for attr in copied_json.get('attributes', []):\n",
    "            if attr['attribute']['attributeCode'] == code:\n",
    "                if attr['value'] is None:\n",
    "                    attr['values'][0]['value'] = new_value\n",
    "                    attr['values'][0]['valueDesc'] = None\n",
    "                else:\n",
    "                    attr['values'][0]['valueDesc'] = None\n",
    "                    attr['value'] = new_value\n",
    "    \n",
    "    return copied_json\n"
   ]
  },
  {
   "cell_type": "markdown",
   "metadata": {},
   "source": [
    "#### 4C. State Context Değer Tutma Scripti"
   ]
  },
  {
   "cell_type": "markdown",
   "metadata": {},
   "source": [
    "#### 4D. Çalışma Sonrası Scripti"
   ]
  },
  {
   "cell_type": "markdown",
   "metadata": {},
   "source": [
    "#### 4E. İş Mantığı"
   ]
  },
  {
   "cell_type": "code",
   "execution_count": 6,
   "metadata": {},
   "outputs": [
    {
     "data": {
      "text/plain": [
       "'md/save'"
      ]
     },
     "execution_count": 6,
     "metadata": {},
     "output_type": "execute_result"
    }
   ],
   "source": [
    "\"\"\"md/save\"\"\""
   ]
  },
  {
   "cell_type": "markdown",
   "metadata": {},
   "source": [
    "## Step 5: New Contract Created\n",
    "- **State Number**: 5\n",
    "- **State Code**: -\n",
    "- **State Name**: New Contract Created\n",
    "- **Description**: A new contract is created using the data from the terminated contract. If the contract was not renewed, this step ensures the creation of a contract for the \"Industrial\" subscriber group. For public and private service sectors, the contract is generated with new attributes like ContractAccountId, SubscriberGroup, and ContractBeginDate.\n",
    "- **Status**: Pending"
   ]
  },
  {
   "cell_type": "markdown",
   "metadata": {},
   "source": [
    "#### 5A. Çalışma Öncesi Scripti"
   ]
  },
  {
   "cell_type": "markdown",
   "metadata": {},
   "source": [
    "#### 5B. İstek Eşleştirme Scripti"
   ]
  },
  {
   "cell_type": "code",
   "execution_count": null,
   "metadata": {},
   "outputs": [],
   "source": [
    "def state_handler(machine, state, request_data, context, state_response_of_machine):\n",
    "    "
   ]
  }
 ],
 "metadata": {
  "kernelspec": {
   "display_name": "Python 3",
   "language": "python",
   "name": "python3"
  },
  "language_info": {
   "codemirror_mode": {
    "name": "ipython",
    "version": 3
   },
   "file_extension": ".py",
   "mimetype": "text/x-python",
   "name": "python",
   "nbconvert_exporter": "python",
   "pygments_lexer": "ipython3",
   "version": "3.12.3"
  }
 },
 "nbformat": 4,
 "nbformat_minor": 2
}
