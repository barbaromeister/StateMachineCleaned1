{
 "cells": [
  {
   "cell_type": "markdown",
   "metadata": {},
   "source": [
    "## Tek Terimden Çift Terime Geçiş \n"
   ]
  },
  {
   "cell_type": "code",
   "execution_count": 5,
   "metadata": {},
   "outputs": [],
   "source": [
    "import json\n",
    "with open('trigger_request.json') as f:\n",
    "    request_data = json.load(f)"
   ]
  },
  {
   "cell_type": "markdown",
   "metadata": {},
   "source": [
    "### Step 1: Transition Process Control\n",
    "- **State Number**: 2\n",
    "- **State Code**: 10350002\n",
    "- **State Name**: Transition Process from Single to Dual Term Initiated\n",
    "- **Description**: This state controls the transition process. If all five checks are successful, it moves to the next state; otherwise, it goes to the termination state."
   ]
  },
  {
   "cell_type": "markdown",
   "metadata": {},
   "source": [
    "#### 1a. Çalışma Öncesi Script"
   ]
  },
  {
   "cell_type": "code",
   "execution_count": 20,
   "metadata": {},
   "outputs": [],
   "source": [
    "# machine              : Currently executing machine instance\n",
    "# state                : Currently executing state instance\n",
    "# request_data         : Original trigger data\n",
    "# context              : Machine stored context\n",
    "# prev_state_response  : Previous executed state business logic response\n",
    "# return\n",
    "#     json result of business/mapping\n",
    "def state_handler(machine, state, request_data, context, state_response_of_machine):\n",
    "\n",
    "    termType = next((attr for attr in request_data['attributes'] if attr['attribute']['attributeCode'] == 'TermType'), None)['values'][0]['value']\n",
    "    cancelDate = next((attr for attr in request_data['attributes'] if attr['attribute']['attributeCode'] == 'ContractCancellationDate'), None)['value']\n",
    "\n",
    "    if request_data['count'] > 3:\n",
    "        return {\"success\": True, \"error\": {\"code\": \"END\", \"detail\": \"Terim Sayısı\"}}\n",
    "    \n",
    "    if request_data['assetDefinitionCode'] not in ['ConsumerContract', 'LicensedProducerContract',\n",
    "                                              'UnlicensedProducerContract']:\n",
    "        return {\"success\": True, \"error\": {\"code\": \"END\", \"detail\": \"Asset Definition\"}}\n",
    "    \n",
    "    if cancelDate != 99991231000000:\n",
    "        return {\"success\": True, \"error\": {\"code\": \"END\", \"detail\": \"İptal Tarihi\"}}\n",
    "    \n",
    "    if termType == 'ÇT':\n",
    "        return {\"success\": True, \"error\": {\"code\": \"END\", \"detail\": \"Terim Tipi\"}}\n",
    "\n",
    "state_handler(None, None, request_data, None, None)"
   ]
  },
  {
   "cell_type": "markdown",
   "metadata": {},
   "source": [
    "#### 1b. İstek Eşleştirme Scripti "
   ]
  },
  {
   "cell_type": "code",
   "execution_count": 19,
   "metadata": {},
   "outputs": [
    {
     "data": {
      "text/plain": [
       "{'assetid': 21407}"
      ]
     },
     "execution_count": 19,
     "metadata": {},
     "output_type": "execute_result"
    }
   ],
   "source": [
    "# machine              : Currently executing machine instance\n",
    "# state                : Currently executing state instance\n",
    "# request_data         : Original trigger data\n",
    "# context              : Machine stored context\n",
    "# prev_state_response  : Previous executed state business logic response\n",
    "# return\n",
    "#     json result of business/mapping\n",
    "def state_handler(machine, state, request_data, context, state_response_of_machine):\n",
    "    ServicePointId = next((attr for attr in request_data['attributes'] if attr['attribute']['attributeCode'] == 'ServicePointId'), None)['value']\n",
    "    return {\"assetid\":ServicePointId}\n",
    "\n",
    "state_handler(None, None, request_data, None, None)"
   ]
  },
  {
   "cell_type": "markdown",
   "metadata": {},
   "source": [
    "#### 1c. State Context Değer Tutma Scripti"
   ]
  },
  {
   "cell_type": "code",
   "execution_count": 17,
   "metadata": {},
   "outputs": [
    {
     "data": {
      "text/plain": [
       "{'ServicePointId': 21407}"
      ]
     },
     "execution_count": 17,
     "metadata": {},
     "output_type": "execute_result"
    }
   ],
   "source": [
    "# machine           : Currently executing machine instance\n",
    "# state             : Currently executing state instance\n",
    "# source            : Original trigger data\n",
    "# context           : Machine stored context\n",
    "# prevStateResponse : Previous executed state business logic response\n",
    "# return\n",
    "#     store dictionary  \n",
    "def state_handler(machine, state, request_data, context, state_response_of_machine):\n",
    "    store = {}\n",
    "    \n",
    "    attribute_codes = ['ServicePointId']\n",
    "    \n",
    "    for code in attribute_codes:\n",
    "        for attr in request_data['attributes']:\n",
    "            if attr['attribute']['attributeCode'] == code:\n",
    "                value = attr['value']\n",
    "                if value is None and attr['values']:\n",
    "                    value = attr['values'][0]['value']  # values içindeki value al\n",
    "                store[code] = value\n",
    "                break\n",
    "        else:\n",
    "            store[code] = None  # Eğer bulunamazsa None döner\n",
    "    return store\n",
    "\n",
    "state_handler(None, None, request_data, None, None)"
   ]
  },
  {
   "cell_type": "markdown",
   "metadata": {},
   "source": [
    "#### 1d. Çalışma Sonrası Scripti"
   ]
  },
  {
   "cell_type": "code",
   "execution_count": null,
   "metadata": {},
   "outputs": [],
   "source": [
    "\n",
    "# A service will be added here to check the historical data count of TermType. If this stage has been reached, it indicates that the number of Term Changes is less than 3.\n",
    "\n",
    "# machine                 : Currently executing machine instance\n",
    "# state                   : Currently executing state instance\n",
    "# request_data            : Original trigger data\n",
    "# context                 : Machine stored context\n",
    "# prev_state_response     : Previous executed state business logic response\n",
    "# current_state_response  : Currently executed state business logic response\n",
    "# return\n",
    "#     {\"success\": True, \"goto\": \"STATE_CODE\"}\n",
    "#     {\"success\": False, \"error\": {\"code\": \"...\", \"detail\": \"...\"}}\n",
    "\n",
    "def state_handler(machine, state, request_data, context, state_response_of_machine):\n",
    "    code = state['stateDefinitions']['stateCode']\n",
    "    current_state_response = state_response_of_machine[code]['businessLogicResponseofPreviousState']    if request_data['assetDefinitionCode'] == 'ConsumerContract':\n",
    "    \n",
    "    tariff_code = next((attr['value'] for attr in current_state_response['attributes']['attributeCode'] == 'TariffCode'), None)['values'][0]['value']\n",
    "    if tariff_code == 'AG':\n",
    "        return {\"success\": True, \"error\": {\"code\": \"END\", \"detail\": \"AG Tarifesi\"}}\n",
    "\n",
    "    else:\n",
    "        return {\"success\": True, \"goto\": \"10340003\"}"
   ]
  },
  {
   "cell_type": "markdown",
   "metadata": {},
   "source": [
    "## Step 2: Invoice Creation\n",
    "- **State Number**: 3\n",
    "- **State Code**: 10340003\n",
    "- **State Name**: Invoice Creation\n",
    "- **Description**: After the machine is created, it waits for the first invoice to be generated. At this stage, a specific event (from Kafka) is triggered.\n",
    "- **Status**: Pending"
   ]
  },
  {
   "cell_type": "markdown",
   "metadata": {},
   "source": [
    "#### 2a. Çalışma Öncesi Scripti"
   ]
  },
  {
   "cell_type": "code",
   "execution_count": null,
   "metadata": {},
   "outputs": [],
   "source": [
    "#Yok"
   ]
  },
  {
   "cell_type": "markdown",
   "metadata": {},
   "source": [
    "#### 2b. İstek Eşleştirme Scripti "
   ]
  },
  {
   "cell_type": "code",
   "execution_count": null,
   "metadata": {},
   "outputs": [],
   "source": [
    "#Yok"
   ]
  },
  {
   "cell_type": "markdown",
   "metadata": {},
   "source": [
    "#### 2c. State Context Değer Tutma Scripti"
   ]
  },
  {
   "cell_type": "code",
   "execution_count": null,
   "metadata": {},
   "outputs": [],
   "source": [
    "#Yok"
   ]
  },
  {
   "cell_type": "markdown",
   "metadata": {},
   "source": [
    "#### 2d. Çalışma Sonrası Scripti"
   ]
  },
  {
   "cell_type": "code",
   "execution_count": null,
   "metadata": {},
   "outputs": [],
   "source": [
    "#Yok"
   ]
  },
  {
   "cell_type": "markdown",
   "metadata": {},
   "source": [
    "## Step 3: Contract Cancellation\n",
    "- **State Number**: 4\n",
    "- **State Code**: 10340004\n",
    "- **State Name**: Contract Cancellation\n",
    "- **Description**: This state signifies the Cancellation of the existing dual-term contract. Relevant date information is updated here, and then it transitions to the next state."
   ]
  },
  {
   "cell_type": "markdown",
   "metadata": {},
   "source": [
    "#### 3a. Çalışma Öncesi Scripti"
   ]
  },
  {
   "cell_type": "code",
   "execution_count": null,
   "metadata": {},
   "outputs": [],
   "source": [
    "#Yok"
   ]
  },
  {
   "cell_type": "markdown",
   "metadata": {},
   "source": [
    "#### 3b. İstek Eşleştirme Scripti "
   ]
  },
  {
   "cell_type": "code",
   "execution_count": 27,
   "metadata": {},
   "outputs": [
    {
     "data": {
      "text/plain": [
       "'{\\n    \"id\": 21408,\\n    \"attributes\": [\\n        {\\n            \"attribute\": {\\n                \"attributeCode\": \"ContractCancellationDate\"\\n            },\\n            \"value\": \"20241105000000\"\\n        },\\n        {\\n            \"attribute\": {\\n                \"attributeCode\": \"ContractCancellationRequestDate\"\\n            },\\n            \"value\": \"20241105000000\"\\n        },\\n        {\\n            \"attribute\": {\\n                \"attributeCode\": \"ContractCancellationReason\"\\n            },\\n            \"value\": \"SubscriberRequest\"\\n        },\\n        {\\n            \"attribute\": {\\n                \"attributeCode\": \"ContractNumber\"\\n            },\\n            \"value\": 10000446\\n        }\\n    ],\\n    \"authorityGroup\": \"string\",\\n    \"contractLockID\": \"string\"\\n}'"
      ]
     },
     "execution_count": 27,
     "metadata": {},
     "output_type": "execute_result"
    }
   ],
   "source": [
    "# machine              : Currently executing machine instance\n",
    "# state                : Currently executing state instance\n",
    "# request_data         : Original trigger data\n",
    "# context              : Machine stored context\n",
    "# prev_state_response  : Previous executed state business logic response\n",
    "# return\n",
    "#     json result of business/mapping\n",
    "import json\n",
    "from datetime import datetime\n",
    "\n",
    "def state_handler(machine, state, request_data, context, state_response_of_machine) -> json:  \n",
    "    \n",
    "    current_date = datetime.now().strftime('%Y%m%d') + '000000'\n",
    "    \n",
    "    data = {\n",
    "        \"id\": request_data[\"id\"],\n",
    "        \"attributes\": [\n",
    "            {\n",
    "                \"attribute\": {\n",
    "                    \"attributeCode\": \"ContractCancellationDate\"\n",
    "                },\n",
    "                \"value\":current_date\n",
    "            },\n",
    "            {\n",
    "                \"attribute\": {\n",
    "                    \"attributeCode\": \"ContractCancellationRequestDate\"\n",
    "                },\n",
    "                \"value\": current_date\n",
    "            },\n",
    "            {\n",
    "                \"attribute\": {\n",
    "                    \"attributeCode\": \"ContractCancellationReason\"\n",
    "                },\n",
    "                \"value\": \"SubscriberRequest\"  \n",
    "            },\n",
    "            {\n",
    "                \"attribute\": {\n",
    "                    \"attributeCode\": \"ContractNumber\"\n",
    "                },\n",
    "                \"value\": next((attr['value'] for attr in request_data['attributes'] \n",
    "                               if attr['attribute']['attributeCode'] == \"ContractNumber\"), None)\n",
    "            }\n",
    "        ],\n",
    "        \"authorityGroup\": request_data[\"authorityGroup\"],\n",
    "        \"contractLockID\": \"string\"  \n",
    "    }\n",
    "    \n",
    "    return json.dumps(data, indent=4)\n",
    "\n",
    "state_handler(None, None, request_data, None, None)\n"
   ]
  },
  {
   "cell_type": "markdown",
   "metadata": {},
   "source": [
    "#### 3c. State Context Değer Tutma Scripti"
   ]
  },
  {
   "cell_type": "code",
   "execution_count": null,
   "metadata": {},
   "outputs": [],
   "source": [
    "## Yok"
   ]
  },
  {
   "cell_type": "markdown",
   "metadata": {},
   "source": [
    "#### 3d. Çalışma Sonrası Scripti"
   ]
  },
  {
   "cell_type": "code",
   "execution_count": null,
   "metadata": {},
   "outputs": [],
   "source": [
    "# machine                 : Currently executing machine instance\n",
    "# state                   : Currently executing state instance\n",
    "# request_data            : Original trigger data\n",
    "# context                 : Machine stored context\n",
    "# prev_state_response     : Previous executed state business logic response\n",
    "# current_state_response  : Currently executed state business logic response\n",
    "# return\n",
    "#     {\"success\": True, \"goto\": \"STATE_CODE\"}\n",
    "#     {\"success\": False, \"error\": {\"code\": \"...\", \"detail\": \"...\"}}\n",
    "def state_handler(machine, state, request_data, context, state_response_of_machine):\n",
    "    # do workflow here\n",
    "    return {\"success\": True, \"goto\": \"10340005\"}\n"
   ]
  },
  {
   "cell_type": "markdown",
   "metadata": {},
   "source": [
    "\n",
    "## Step 4: Closure Accrual Creation\n",
    "- **State Number**: 5\n",
    "- **State Code**: 10340005\n",
    "- **State Name**: Closure Accrual Creation\n",
    "- **Description**: A closure invoice is created for the terminated contract. Here, the invoice creation dates are processed.\n",
    "- **Status**: Pending"
   ]
  },
  {
   "cell_type": "markdown",
   "metadata": {},
   "source": [
    "#### 4a. Çalışma Öncesi Scripti"
   ]
  },
  {
   "cell_type": "code",
   "execution_count": null,
   "metadata": {},
   "outputs": [],
   "source": [
    "# Yok"
   ]
  },
  {
   "cell_type": "markdown",
   "metadata": {},
   "source": [
    "#### 4b. İstek Eşleştirme Scripti "
   ]
  },
  {
   "cell_type": "code",
   "execution_count": null,
   "metadata": {},
   "outputs": [],
   "source": [
    "#yok"
   ]
  },
  {
   "cell_type": "markdown",
   "metadata": {},
   "source": [
    "#### 4c. State Context Değer Tutma Scripti"
   ]
  },
  {
   "cell_type": "code",
   "execution_count": null,
   "metadata": {},
   "outputs": [],
   "source": [
    "#Yok"
   ]
  },
  {
   "cell_type": "markdown",
   "metadata": {},
   "source": [
    "#### 4d. Çalışma Sonrası Scripti"
   ]
  },
  {
   "cell_type": "code",
   "execution_count": 2,
   "metadata": {},
   "outputs": [],
   "source": [
    "# machine                 : Currently executing machine instance\n",
    "# state                   : Currently executing state instance\n",
    "# request_data            : Original trigger data\n",
    "# context                 : Machine stored context\n",
    "# prev_state_response     : Previous executed state business logic response\n",
    "# current_state_response  : Currently executed state business logic response\n",
    "# return\n",
    "#     {\"success\": True, \"goto\": \"STATE_CODE\"}\n",
    "#     {\"success\": False, \"error\": {\"code\": \"...\", \"detail\": \"...\"}}\n",
    "def state_handler(machine, state, request_data, context, state_response_of_machine):\n",
    "    # do workflow here\n",
    "    return {\"success\": True, \"goto\": \"10340006-1\"}\n"
   ]
  },
  {
   "cell_type": "markdown",
   "metadata": {},
   "source": [
    "#### 4e. İş Mantığı"
   ]
  },
  {
   "cell_type": "code",
   "execution_count": null,
   "metadata": {},
   "outputs": [
    {
     "data": {
      "text/plain": [
       "'http://thor-stage.edas1.com/host/v1//accruals/calculate'"
      ]
     },
     "metadata": {},
     "output_type": "display_data"
    }
   ],
   "source": [
    "\"\"\"http://thor-stage.edas1.com/host/v1//accruals/calculate\"\"\""
   ]
  },
  {
   "cell_type": "markdown",
   "metadata": {},
   "source": [
    "## Step 5: Data Preparation for New Account\n",
    "- **State Number**: -\n",
    "- **State Code**: -\n",
    "- **State Name**: Data Preparation for New Account\n",
    "- **Description**: This process involves preparing the necessary data for creating a new account. Relevant attributes are queried.\n",
    "- **Status**: Pending"
   ]
  },
  {
   "cell_type": "markdown",
   "metadata": {},
   "source": [
    "#### 5a. Çalışma Öncesi Scripti"
   ]
  },
  {
   "cell_type": "code",
   "execution_count": null,
   "metadata": {},
   "outputs": [],
   "source": [
    "#Yok"
   ]
  },
  {
   "cell_type": "markdown",
   "metadata": {},
   "source": [
    "#### 5b. İstek Eşleştirme Scripti "
   ]
  },
  {
   "cell_type": "code",
   "execution_count": 22,
   "metadata": {},
   "outputs": [],
   "source": [
    "# machine              : Currently executing machine instance\n",
    "# state                : Currently executing state instance\n",
    "# request_data         : Original trigger data\n",
    "# context              : Machine stored context\n",
    "# prev_state_response  : Previous executed state business logic response\n",
    "# return\n",
    "#     json result of business/mapping\n",
    "import json\n",
    "from datetime import datetime\n",
    "\n",
    "def state_handler(machine, state, request_data, context, state_response_of_machine) -> json:  \n",
    "    return {\"assetid\":request_data[\"ContractAccountId\"]}\n",
    "\n",
    "with open('trigger_request.json') as f:\n",
    "    state_response_of_machine = json.load(f)\n"
   ]
  },
  {
   "cell_type": "markdown",
   "metadata": {},
   "source": [
    "#### 5c. State Context Değer Tutma Scripti"
   ]
  },
  {
   "cell_type": "code",
   "execution_count": 25,
   "metadata": {},
   "outputs": [
    {
     "data": {
      "text/plain": [
       "{'accountInfo': {'id': 21408,\n",
       "  'assetDefinitionCode': 'LicensedProducerContract',\n",
       "  'assetName': None,\n",
       "  'authorityGroup': 'string',\n",
       "  'assets': None,\n",
       "  'count': 3,\n",
       "  'attributes': [{'id': None,\n",
       "    'attribute': {'alias': None, 'attributeCode': 'ReactiveExemption'},\n",
       "    'value': None,\n",
       "    'startDate': None,\n",
       "    'endDate': None,\n",
       "    'valueDesc': None,\n",
       "    'values': [{'id': 13512,\n",
       "      'attribute': None,\n",
       "      'value': False,\n",
       "      'startDate': 20241001000000,\n",
       "      'endDate': 99991231235959,\n",
       "      'valueDesc': None,\n",
       "      'values': None}]},\n",
       "   {'id': 16057,\n",
       "    'attribute': {'alias': None, 'attributeCode': 'ContractNumber'},\n",
       "    'value': 10000446,\n",
       "    'startDate': None,\n",
       "    'endDate': None,\n",
       "    'valueDesc': None,\n",
       "    'values': None},\n",
       "   {'id': 13071,\n",
       "    'attribute': {'alias': None,\n",
       "     'attributeCode': 'ContractCancellationRequestDate'},\n",
       "    'value': 99991231235959,\n",
       "    'startDate': None,\n",
       "    'endDate': None,\n",
       "    'valueDesc': None,\n",
       "    'values': None},\n",
       "   {'id': 13070,\n",
       "    'attribute': {'alias': None,\n",
       "     'attributeCode': 'OldSystemContractBeginDate'},\n",
       "    'value': None,\n",
       "    'startDate': None,\n",
       "    'endDate': None,\n",
       "    'valueDesc': None,\n",
       "    'values': None},\n",
       "   {'id': 28295,\n",
       "    'attribute': {'alias': None, 'attributeCode': 'AccrualBlockReason'},\n",
       "    'value': None,\n",
       "    'startDate': None,\n",
       "    'endDate': None,\n",
       "    'valueDesc': None,\n",
       "    'values': None},\n",
       "   {'id': 11867,\n",
       "    'attribute': {'alias': None, 'attributeCode': 'ProducerAccountId'},\n",
       "    'value': 21454,\n",
       "    'startDate': None,\n",
       "    'endDate': None,\n",
       "    'valueDesc': '1000020601',\n",
       "    'values': None},\n",
       "   {'id': 24198,\n",
       "    'attribute': {'alias': None, 'attributeCode': 'AssetDefinitionId'},\n",
       "    'value': '1013',\n",
       "    'startDate': None,\n",
       "    'endDate': None,\n",
       "    'valueDesc': None,\n",
       "    'values': None},\n",
       "   {'id': 11869,\n",
       "    'attribute': {'alias': None, 'attributeCode': 'SsbDocumentId'},\n",
       "    'value': None,\n",
       "    'startDate': None,\n",
       "    'endDate': None,\n",
       "    'valueDesc': None,\n",
       "    'values': None},\n",
       "   {'id': 28294,\n",
       "    'attribute': {'alias': None, 'attributeCode': 'OutageExceptionState'},\n",
       "    'value': None,\n",
       "    'startDate': None,\n",
       "    'endDate': None,\n",
       "    'valueDesc': None,\n",
       "    'values': None},\n",
       "   {'id': None,\n",
       "    'attribute': {'alias': None, 'attributeCode': 'SubscriberGroup'},\n",
       "    'value': None,\n",
       "    'startDate': None,\n",
       "    'endDate': None,\n",
       "    'valueDesc': None,\n",
       "    'values': [{'id': 13621,\n",
       "      'attribute': None,\n",
       "      'value': 'SA',\n",
       "      'startDate': 20241001000000,\n",
       "      'endDate': 99991231235959,\n",
       "      'valueDesc': 'Sanayi',\n",
       "      'values': None}]},\n",
       "   {'id': None,\n",
       "    'attribute': {'alias': None, 'attributeCode': 'ContractPower'},\n",
       "    'value': None,\n",
       "    'startDate': None,\n",
       "    'endDate': None,\n",
       "    'valueDesc': None,\n",
       "    'values': [{'id': 3905,\n",
       "      'attribute': None,\n",
       "      'value': 60,\n",
       "      'startDate': 20241001000000,\n",
       "      'endDate': 99991231235959,\n",
       "      'valueDesc': None,\n",
       "      'values': None}]},\n",
       "   {'id': 13072,\n",
       "    'attribute': {'alias': None, 'attributeCode': 'CreateDate'},\n",
       "    'value': 20241015122314,\n",
       "    'startDate': None,\n",
       "    'endDate': None,\n",
       "    'valueDesc': None,\n",
       "    'values': None},\n",
       "   {'id': None,\n",
       "    'attribute': {'alias': None, 'attributeCode': 'TermType'},\n",
       "    'value': None,\n",
       "    'startDate': None,\n",
       "    'endDate': None,\n",
       "    'valueDesc': None,\n",
       "    'values': [{'id': 13622,\n",
       "      'attribute': None,\n",
       "      'value': 'TT',\n",
       "      'startDate': 20241001000000,\n",
       "      'endDate': 99991231235959,\n",
       "      'valueDesc': 'Tek Terim',\n",
       "      'values': None}]},\n",
       "   {'id': 13073,\n",
       "    'attribute': {'alias': None, 'attributeCode': 'UpdateDate'},\n",
       "    'value': 20241021174359,\n",
       "    'startDate': None,\n",
       "    'endDate': None,\n",
       "    'valueDesc': None,\n",
       "    'values': None},\n",
       "   {'id': 11865,\n",
       "    'attribute': {'alias': None, 'attributeCode': 'ServicePointId'},\n",
       "    'value': 21407,\n",
       "    'startDate': None,\n",
       "    'endDate': None,\n",
       "    'valueDesc': '300000614',\n",
       "    'values': None},\n",
       "   {'id': None,\n",
       "    'attribute': {'alias': None, 'attributeCode': 'ReadingType'},\n",
       "    'value': None,\n",
       "    'startDate': None,\n",
       "    'endDate': None,\n",
       "    'valueDesc': None,\n",
       "    'values': [{'id': 28291,\n",
       "      'attribute': None,\n",
       "      'value': 'SingleTime',\n",
       "      'startDate': 20241001000000,\n",
       "      'endDate': 99991231235959,\n",
       "      'valueDesc': 'Tek Zaman',\n",
       "      'values': None}]},\n",
       "   {'id': None,\n",
       "    'attribute': {'alias': None, 'attributeCode': 'ProducerSubscriberGroup'},\n",
       "    'value': None,\n",
       "    'startDate': None,\n",
       "    'endDate': None,\n",
       "    'valueDesc': None,\n",
       "    'values': [{'id': 13623,\n",
       "      'attribute': None,\n",
       "      'value': 'UR',\n",
       "      'startDate': 20241001000000,\n",
       "      'endDate': 99991231235959,\n",
       "      'valueDesc': 'LisanslÄ± Ãœretici',\n",
       "      'values': None}]},\n",
       "   {'id': 13069,\n",
       "    'attribute': {'alias': None, 'attributeCode': 'ContractSignDate'},\n",
       "    'value': 20241001000000,\n",
       "    'startDate': None,\n",
       "    'endDate': None,\n",
       "    'valueDesc': None,\n",
       "    'values': None},\n",
       "   {'id': 13624,\n",
       "    'attribute': {'alias': None, 'attributeCode': 'ProducerContractClass'},\n",
       "    'value': 'LicencedGenerators',\n",
       "    'startDate': None,\n",
       "    'endDate': None,\n",
       "    'valueDesc': 'LisanslÄ± Ãœretici',\n",
       "    'values': None},\n",
       "   {'id': None,\n",
       "    'attribute': {'alias': None, 'attributeCode': 'ProducerContractPower'},\n",
       "    'value': None,\n",
       "    'startDate': None,\n",
       "    'endDate': None,\n",
       "    'valueDesc': None,\n",
       "    'values': [{'id': 3907,\n",
       "      'attribute': None,\n",
       "      'value': 60,\n",
       "      'startDate': 20241001000000,\n",
       "      'endDate': 99991231235959,\n",
       "      'valueDesc': None,\n",
       "      'values': None}]},\n",
       "   {'id': 24201,\n",
       "    'attribute': {'alias': None, 'attributeCode': 'AssetIdentifier'},\n",
       "    'value': '10000446',\n",
       "    'startDate': None,\n",
       "    'endDate': None,\n",
       "    'valueDesc': None,\n",
       "    'values': None},\n",
       "   {'id': 28292,\n",
       "    'attribute': {'alias': None, 'attributeCode': 'LastSourceConsumerGroup'},\n",
       "    'value': None,\n",
       "    'startDate': None,\n",
       "    'endDate': None,\n",
       "    'valueDesc': None,\n",
       "    'values': None},\n",
       "   {'id': 13620,\n",
       "    'attribute': {'alias': None, 'attributeCode': 'ContractClass'},\n",
       "    'value': 'Producer',\n",
       "    'startDate': None,\n",
       "    'endDate': None,\n",
       "    'valueDesc': 'Ãœretici',\n",
       "    'values': None},\n",
       "   {'id': 13513,\n",
       "    'attribute': {'alias': None, 'attributeCode': 'IsDeleted'},\n",
       "    'value': False,\n",
       "    'startDate': None,\n",
       "    'endDate': None,\n",
       "    'valueDesc': None,\n",
       "    'values': None},\n",
       "   {'id': 3906,\n",
       "    'attribute': {'alias': None, 'attributeCode': 'SubstationShareRatio'},\n",
       "    'value': None,\n",
       "    'startDate': None,\n",
       "    'endDate': None,\n",
       "    'valueDesc': None,\n",
       "    'values': None},\n",
       "   {'id': 28296,\n",
       "    'attribute': {'alias': None, 'attributeCode': 'InvoiceBlockReason'},\n",
       "    'value': None,\n",
       "    'startDate': None,\n",
       "    'endDate': None,\n",
       "    'valueDesc': None,\n",
       "    'values': None},\n",
       "   {'id': 19457,\n",
       "    'attribute': {'alias': None,\n",
       "     'attributeCode': 'ReverseContractServicePointId'},\n",
       "    'value': None,\n",
       "    'startDate': None,\n",
       "    'endDate': None,\n",
       "    'valueDesc': None,\n",
       "    'values': None},\n",
       "   {'id': 6005,\n",
       "    'attribute': {'alias': None, 'attributeCode': 'ContractCancellationDate'},\n",
       "    'value': 99991231000000,\n",
       "    'startDate': None,\n",
       "    'endDate': None,\n",
       "    'valueDesc': None,\n",
       "    'values': None},\n",
       "   {'id': 24197,\n",
       "    'attribute': {'alias': None, 'attributeCode': 'CreateUser'},\n",
       "    'value': None,\n",
       "    'startDate': None,\n",
       "    'endDate': None,\n",
       "    'valueDesc': None,\n",
       "    'values': None},\n",
       "   {'id': 24195,\n",
       "    'attribute': {'alias': None, 'attributeCode': 'PreviousContractNumber'},\n",
       "    'value': None,\n",
       "    'startDate': None,\n",
       "    'endDate': None,\n",
       "    'valueDesc': None,\n",
       "    'values': None},\n",
       "   {'id': None,\n",
       "    'attribute': {'alias': None, 'attributeCode': 'UnipedeSectorCode'},\n",
       "    'value': None,\n",
       "    'startDate': None,\n",
       "    'endDate': None,\n",
       "    'valueDesc': None,\n",
       "    'values': [{'id': 28293,\n",
       "      'attribute': None,\n",
       "      'value': '1000',\n",
       "      'startDate': 20241001000000,\n",
       "      'endDate': 99991231235959,\n",
       "      'valueDesc': '1000',\n",
       "      'values': None}]},\n",
       "   {'id': 24199,\n",
       "    'attribute': {'alias': None, 'attributeCode': 'AccessLevel'},\n",
       "    'value': None,\n",
       "    'startDate': None,\n",
       "    'endDate': None,\n",
       "    'valueDesc': None,\n",
       "    'values': None},\n",
       "   {'id': 11868,\n",
       "    'attribute': {'alias': None, 'attributeCode': 'SupplierCodeId'},\n",
       "    'value': 21454,\n",
       "    'startDate': None,\n",
       "    'endDate': None,\n",
       "    'valueDesc': '1000020601',\n",
       "    'values': None},\n",
       "   {'id': 6004,\n",
       "    'attribute': {'alias': None, 'attributeCode': 'ContractBeginDate'},\n",
       "    'value': 20241001000000,\n",
       "    'startDate': None,\n",
       "    'endDate': None,\n",
       "    'valueDesc': None,\n",
       "    'values': None},\n",
       "   {'id': 28752,\n",
       "    'attribute': {'alias': None,\n",
       "     'attributeCode': 'ContractCancellationReason'},\n",
       "    'value': None,\n",
       "    'startDate': None,\n",
       "    'endDate': None,\n",
       "    'valueDesc': None,\n",
       "    'values': None},\n",
       "   {'id': 28290,\n",
       "    'attribute': {'alias': None, 'attributeCode': 'ContractBeginReason'},\n",
       "    'value': 'NewContract',\n",
       "    'startDate': None,\n",
       "    'endDate': None,\n",
       "    'valueDesc': None,\n",
       "    'values': None},\n",
       "   {'id': None,\n",
       "    'attribute': {'alias': None, 'attributeCode': 'ProducerTermType'},\n",
       "    'value': None,\n",
       "    'startDate': None,\n",
       "    'endDate': None,\n",
       "    'valueDesc': None,\n",
       "    'values': [{'id': 13625,\n",
       "      'attribute': None,\n",
       "      'value': 'TT',\n",
       "      'startDate': 20241001000000,\n",
       "      'endDate': 99991231235959,\n",
       "      'valueDesc': 'Tek Terim',\n",
       "      'values': None}]},\n",
       "   {'id': 24200,\n",
       "    'attribute': {'alias': None, 'attributeCode': 'UpdateUser'},\n",
       "    'value': None,\n",
       "    'startDate': None,\n",
       "    'endDate': None,\n",
       "    'valueDesc': None,\n",
       "    'values': None},\n",
       "   {'id': 24196,\n",
       "    'attribute': {'alias': None, 'attributeCode': 'AssetId'},\n",
       "    'value': '21408',\n",
       "    'startDate': None,\n",
       "    'endDate': None,\n",
       "    'valueDesc': None,\n",
       "    'values': None},\n",
       "   {'id': 11866,\n",
       "    'attribute': {'alias': None, 'attributeCode': 'ContractAccountId'},\n",
       "    'value': 21454,\n",
       "    'startDate': None,\n",
       "    'endDate': None,\n",
       "    'valueDesc': '1000020601',\n",
       "    'values': None}]}}"
      ]
     },
     "execution_count": 25,
     "metadata": {},
     "output_type": "execute_result"
    }
   ],
   "source": [
    "# machine           : Currently executing machine instance\n",
    "# state             : Currently executing state instance\n",
    "# source            : Original trigger data\n",
    "# context           : Machine stored context\n",
    "# prevStateResponse : Previous executed state business logic response\n",
    "# return\n",
    "#     store dictionary  \n",
    "def state_handler(machine, state, request_data, context, state_response_of_machine):\n",
    "    store = {'accountInfo' : state_response_of_machine}\n",
    "    return store\n",
    "\n",
    "state_handler(None, None, request_data, None, state_response_of_machine)"
   ]
  },
  {
   "cell_type": "markdown",
   "metadata": {},
   "source": [
    "#### 5d. Çalışma Sonrası Scripti"
   ]
  },
  {
   "cell_type": "code",
   "execution_count": null,
   "metadata": {},
   "outputs": [],
   "source": [
    "#Yok"
   ]
  },
  {
   "cell_type": "markdown",
   "metadata": {},
   "source": [
    "#### 5e. İş Mantığı"
   ]
  },
  {
   "cell_type": "code",
   "execution_count": null,
   "metadata": {},
   "outputs": [
    {
     "data": {
      "text/plain": [
       "'http://thor-stage.edas1.com/host/v1//md/search/{assetId}'"
      ]
     },
     "metadata": {},
     "output_type": "display_data"
    }
   ],
   "source": [
    "\"\"\"http://thor-stage.edas1.com/host/v1//md/search/{assetId}\"\"\"##URL is  not defined"
   ]
  },
  {
   "cell_type": "markdown",
   "metadata": {},
   "source": [
    "## Step 6: Create New Account\n",
    "- **State Number**: 6\n",
    "- **State Code**: 10340006\n",
    "- **State Name**: Create New Account\n",
    "- **Description**: An account is created to link with the new contract. New account definitions are made using existing attributes.\n",
    "- **Status** : Pending"
   ]
  },
  {
   "cell_type": "markdown",
   "metadata": {},
   "source": [
    "#### 6a. Çalışma Öncesi Scripti"
   ]
  },
  {
   "cell_type": "code",
   "execution_count": null,
   "metadata": {},
   "outputs": [],
   "source": [
    "#Yok"
   ]
  },
  {
   "cell_type": "markdown",
   "metadata": {},
   "source": [
    "#### 6b. İstek Eşleştirme Scripti "
   ]
  },
  {
   "cell_type": "code",
   "execution_count": null,
   "metadata": {},
   "outputs": [],
   "source": [
    "# machine              : Currently executing machine instance\n",
    "# state                : Currently executing state instance\n",
    "# request_data         : Original trigger data\n",
    "# context              : Machine stored context\n",
    "# prev_state_response  : Previous executed state business logic response\n",
    "# return\n",
    "#     json result of business/mapping\n",
    "import json\n",
    "from datetime import datetime\n",
    "\n",
    "def state_handler(machine, state, request_data, context, state_response_of_machine) -> json:\n",
    "    \n",
    "    prev_state_response = state_response_of_machine\n",
    "    copied_json = {}\n",
    "    stack = [(copied_json, prev_state_response)]\n",
    "\n",
    "    # Copy context to copied_json without id\n",
    "    while stack:\n",
    "        current_copied, current_original = stack.pop()\n",
    "\n",
    "        for key, value in current_original.items():\n",
    "            if key != 'id':\n",
    "                if isinstance(value, list):\n",
    "                    new_list = []\n",
    "                    for item in value:\n",
    "                        if isinstance(item, dict):\n",
    "                            new_item = {}\n",
    "                            new_list.append(new_item)\n",
    "                            stack.append((new_item, item))\n",
    "                        else:\n",
    "                            new_list.append(item)\n",
    "                    current_copied[key] = new_list\n",
    "                elif isinstance(value, dict):\n",
    "                    new_dict = {}\n",
    "                    current_copied[key] = new_dict\n",
    "                    stack.append((new_dict, value))\n",
    "                else:\n",
    "                    current_copied[key] = value\n",
    "\n",
    "    \n",
    "    return copied_json\n"
   ]
  },
  {
   "cell_type": "markdown",
   "metadata": {},
   "source": [
    "#### 6c. State Context Değer Tutma Scripti"
   ]
  },
  {
   "cell_type": "code",
   "execution_count": null,
   "metadata": {},
   "outputs": [],
   "source": [
    "# machine           : Currently executing machine instance\n",
    "# state             : Currently executing state instance\n",
    "# source            : Original trigger data\n",
    "# context           : Machine stored context\n",
    "# prevStateResponse : Previous executed state business logic response\n",
    "# return\n",
    "#     store dictionary  \n",
    "def state_handler(machine, state, request_data, context, state_response_of_machine):\n",
    "    store = {}\n",
    "    \n",
    "    attribute_codes = ['AccountId']\n",
    "    code = state['stateDefinitions']['stateCode']\n",
    "    current_state_response = state_response_of_machine[code]['businessLogicResponseofPreviousState']\n",
    "    for code in attribute_codes:\n",
    "        for attr in current_state_response['attributes']:\n",
    "            if attr['attribute']['attributeCode'] == code:\n",
    "                value = attr['value']\n",
    "                if value is None and attr['values']:\n",
    "                    value = attr['values'][0]['value']  # values içindeki value al\n",
    "                store[code] = value\n",
    "                break\n",
    "        else:\n",
    "            store[code] = None  # Eğer bulunamazsa None döner\n",
    "    return store"
   ]
  },
  {
   "cell_type": "markdown",
   "metadata": {},
   "source": [
    "#### 6d. Çalışma Sonrası Scripti"
   ]
  },
  {
   "cell_type": "code",
   "execution_count": null,
   "metadata": {},
   "outputs": [],
   "source": [
    "#Yok"
   ]
  },
  {
   "cell_type": "markdown",
   "metadata": {},
   "source": [
    "#### 6e. İş Mantığı"
   ]
  },
  {
   "cell_type": "code",
   "execution_count": null,
   "metadata": {},
   "outputs": [
    {
     "data": {
      "text/plain": [
       "'http://thor-stage.edas1.com/host/v1//account/create'"
      ]
     },
     "metadata": {},
     "output_type": "display_data"
    }
   ],
   "source": [
    "\"\"\"http://thor-stage.edas1.com/host/v1//account/create\"\"\"\n"
   ]
  },
  {
   "cell_type": "markdown",
   "metadata": {},
   "source": [
    "## Step 7: Creation of New Contract\n",
    "- **State Number**: 7\n",
    "- **State Code**: 10340007\n",
    "- **State Name**: Creation of New Contract\n",
    "- **Description**: A new contract is created with the new term information. The same attributes as the existing contract are used to create a single-term contract."
   ]
  },
  {
   "cell_type": "markdown",
   "metadata": {},
   "source": [
    "#### 7a. Çalışma Öncesi Scripti"
   ]
  },
  {
   "cell_type": "code",
   "execution_count": null,
   "metadata": {},
   "outputs": [],
   "source": [
    "#Yok"
   ]
  },
  {
   "cell_type": "markdown",
   "metadata": {},
   "source": [
    "#### 7b. İstek Eşleştirme Scripti"
   ]
  },
  {
   "cell_type": "markdown",
   "metadata": {},
   "source": [
    "##### 7b. İstek Eşleştirme Scripti- Olması gereken(!1)"
   ]
  },
  {
   "cell_type": "code",
   "execution_count": null,
   "metadata": {},
   "outputs": [],
   "source": [
    "from datetime import datetime\n",
    "import json\n",
    "def state_handler(machine, state, request_data, context, state_response_of_machine):\n",
    "    # Not recursive \n",
    "    current_date = datetime.now().strftime('%Y%m%d') + '000000'\n",
    "    \n",
    "    changes_dict = {'TermType': 'ÇT',\n",
    "                    'ProducerTermType': 'ÇT',\n",
    "                    'ContractAccountId': context['accountInfo']['id']\n",
    "                    }\n",
    "    \n",
    "    copied_json = {}\n",
    "    stack = [(copied_json, request_data)]\n",
    "\n",
    "    # Copy context to copied_json without id\n",
    "    while stack:\n",
    "        current_copied, current_original = stack.pop()\n",
    "\n",
    "        for key, value in current_original.items():\n",
    "            if key != 'id':\n",
    "                if isinstance(value, list):\n",
    "                    new_list = []\n",
    "                    for item in value:\n",
    "                        if isinstance(item, dict):\n",
    "                            new_item = {}\n",
    "                            new_list.append(new_item)\n",
    "                            stack.append((new_item, item))\n",
    "                        else:\n",
    "                            new_list.append(item)\n",
    "                    current_copied[key] = new_list\n",
    "                elif isinstance(value, dict):\n",
    "                    new_dict = {}\n",
    "                    current_copied[key] = new_dict\n",
    "                    stack.append((new_dict, value))\n",
    "                else:\n",
    "                    current_copied[key] = value\n",
    "\n",
    "    # Set dates for all values in copied_json\n",
    "    for key, value in copied_json.items():\n",
    "        if isinstance(value, list):\n",
    "            for item in value:\n",
    "                if isinstance(item, dict):\n",
    "                    if item.get('value') is None and 'values' in item and item['values']:\n",
    "                        item['values'][0]['startDate'] = current_date\n",
    "                        item['values'][0]['endDate'] = 99991231235959\n",
    "                    elif item.get('value') is not None:\n",
    "                        item['startDate'] = current_date\n",
    "                        item['endDate'] = 99991231235959\n",
    "        elif isinstance(value, dict):\n",
    "            if value.get('value') is None and 'values' in value and value['values']:\n",
    "                value['values'][0]['startDate'] = current_date\n",
    "                value['values'][0]['endDate'] = 99991231235959\n",
    "            elif value.get('value') is not None:\n",
    "                value['startDate'] = current_date\n",
    "                value['endDate'] = 99991231235959\n",
    "\n",
    "    # Update attribute values in context according to the dict above\n",
    "    for code, new_value in changes_dict.items():\n",
    "        for attr in copied_json.get('attributes', []):\n",
    "            if attr['attribute']['attributeCode'] == code:\n",
    "                if attr['value'] is None:\n",
    "                    attr['values'][0]['value'] = new_value\n",
    "                    attr['values'][0]['valueDesc'] = None\n",
    "                else:\n",
    "                    attr['values'][0]['valueDesc'] = None\n",
    "                    attr['value'] = new_value\n",
    "\n",
    "    return copied_json  "
   ]
  },
  {
   "cell_type": "markdown",
   "metadata": {},
   "source": [
    "#### 7c. State Context Değer Tutma Scripti"
   ]
  },
  {
   "cell_type": "code",
   "execution_count": null,
   "metadata": {},
   "outputs": [],
   "source": [
    "# machine           : Currently executing machine instance\n",
    "# state             : Currently executing state instance\n",
    "# source            : Original trigger data\n",
    "# context           : Machine stored context\n",
    "# prevStateResponse : Previous executed state business logic response\n",
    "# return\n",
    "#     store dictionary  \n",
    "def state_handler(machine, state, request_data, context, state_response_of_machine):\n",
    "    store = {}\n",
    "    \n",
    "    attribute_codes = ['ContractId']\n",
    "    \n",
    "    for code in attribute_codes:\n",
    "        for attr in request_data['attributes']:\n",
    "            if attr['attribute']['attributeCode'] == code:\n",
    "                value = attr['value']\n",
    "                if value is None and attr['values']:\n",
    "                    value = attr['values'][0]['value']  # values içindeki value al\n",
    "                store[code] = value\n",
    "                break\n",
    "        else:\n",
    "            store[code] = None  # Eğer bulunamazsa None döner\n",
    "    return store"
   ]
  },
  {
   "cell_type": "markdown",
   "metadata": {},
   "source": [
    "##### 7d. Çalışma Sonrası Scripti"
   ]
  },
  {
   "cell_type": "code",
   "execution_count": null,
   "metadata": {},
   "outputs": [],
   "source": [
    "# machine                 : Currently executing machine instance\n",
    "# state                   : Currently executing state instance\n",
    "# request_data            : Original trigger data\n",
    "# context                 : Machine stored context\n",
    "# prev_state_response     : Previous executed state business logic response\n",
    "# current_state_response  : Currently executed state business logic response\n",
    "# return\n",
    "#     {\"success\": True, \"goto\": \"STATE_CODE\"}\n",
    "#     {\"success\": False, \"error\": {\"code\": \"...\", \"detail\": \"...\"}}\n",
    "def state_handler(machine, state, request_data, context, state_response_of_machine):\n",
    "    # do workflow here\n",
    "    return {\"success\": True, \"goto\": \"END\"}\n"
   ]
  },
  {
   "cell_type": "markdown",
   "metadata": {},
   "source": [
    "#### 7e. İş Mantığı"
   ]
  },
  {
   "cell_type": "code",
   "execution_count": null,
   "metadata": {},
   "outputs": [
    {
     "data": {
      "text/plain": [
       "'http://thor-stage.edas1.com/host/v1//contract/create'"
      ]
     },
     "metadata": {},
     "output_type": "display_data"
    }
   ],
   "source": [
    "\"\"\"http://thor-stage.edas1.com/host/v1//contract/create\"\"\""
   ]
  }
 ],
 "metadata": {
  "kernelspec": {
   "display_name": "Python 3",
   "language": "python",
   "name": "python3"
  },
  "language_info": {
   "codemirror_mode": {
    "name": "ipython",
    "version": 3
   },
   "file_extension": ".py",
   "mimetype": "text/x-python",
   "name": "python",
   "nbconvert_exporter": "python",
   "pygments_lexer": "ipython3",
   "version": "3.12.3"
  }
 },
 "nbformat": 4,
 "nbformat_minor": 2
}
