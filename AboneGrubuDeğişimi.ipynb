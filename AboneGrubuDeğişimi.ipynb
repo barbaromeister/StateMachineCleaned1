{
 "cells": [
  {
   "cell_type": "markdown",
   "metadata": {},
   "source": [
    "## Step 1: Start State\n",
    "- **State Number**: 1\n",
    "- **State Code**: \n",
    "- **State Name**: Start State\n",
    "- **Description**: The process begins here when the machine is triggered. All attributes of the contract and the new subscriber group are gathered to determine the next state.\n",
    "- **Status**: Pending\n"
   ]
  },
  {
   "cell_type": "markdown",
   "metadata": {},
   "source": [
    "## Step 2: K2 DST Subscriber Group Change Initiated - Change Process Control\n",
    "- **State Number**: 2\n",
    "- **State Code**: \n",
    "- **State Name**: K2 DST Subscriber Group Change Initiated - Change Process Control\n",
    "- **Description**: This state performs the necessary checks related to the contract and installation. The change process is initiated here.\n",
    "- **Status**: Pending\n",
    "\n"
   ]
  },
  {
   "cell_type": "markdown",
   "metadata": {},
   "source": [
    "#### 2A - Çalışma Öncesi Scripti"
   ]
  },
  {
   "cell_type": "markdown",
   "metadata": {},
   "source": [
    "#### 2B - İstek Eşleştirme Scripti"
   ]
  },
  {
   "cell_type": "markdown",
   "metadata": {},
   "source": [
    "#### 2C - State Context Değer Tutma Scripti"
   ]
  },
  {
   "cell_type": "markdown",
   "metadata": {},
   "source": [
    "#### 2D - Çalışma Sonrası Scripti"
   ]
  },
  {
   "cell_type": "markdown",
   "metadata": {},
   "source": [
    "#### 2E - İş mantığı"
   ]
  },
  {
   "cell_type": "markdown",
   "metadata": {},
   "source": [
    "## Step 3: Period Invoice Creation\n",
    "- **State Number**: 3\n",
    "- **State Code**: \n",
    "- **State Name**: Period Invoice Creation\n",
    "- **Description**: A period invoice is created based on the first period reading. This step awaits a Kafka event (`thor-billing-accrual-created`) for the invoice creation.\n",
    "- **Status**: Pending\n"
   ]
  },
  {
   "cell_type": "markdown",
   "metadata": {},
   "source": [
    "## Step 4: Contract Termination\n",
    "- **State Number**: 4\n",
    "- **State Code**: \n",
    "- **State Name**: Contract Termination\n",
    "- **Description**: After the period invoice is created, the contract is terminated. Historical date attributes are set according to the invoice creation date.\n",
    "- **Status**: Pending\n"
   ]
  },
  {
   "cell_type": "markdown",
   "metadata": {},
   "source": [
    "## Step 5: Closure Accrual Creation\n",
    "- **State Number**: 5\n",
    "- **State Code**: \n",
    "- **State Name**: Closure Accrual Creation\n",
    "- **Description**: A closure accrual invoice is generated for the terminated contract. This step is done using the `/accruals/calculate` service.\n",
    "- **Status**: Pending\n"
   ]
  },
  {
   "cell_type": "markdown",
   "metadata": {},
   "source": [
    "## Step 6: Create New Account\n",
    "- **State Number**: 6\n",
    "- **State Code**: \n",
    "- **State Name**: Create New Account\n",
    "- **Description**: An account is created to link with the new contract. New account definitions are made using existing attributes.\n",
    "- **Status**: Pending\n"
   ]
  },
  {
   "cell_type": "markdown",
   "metadata": {},
   "source": [
    "## Step 7: Create New Contract\n",
    "- **State Number**: 7\n",
    "- **State Code**: \n",
    "- **State Name**: Create New Contract\n",
    "- **Description**: A new contract is created with the new subscriber group. The system uses the same attributes from the existing contract, but the subscriber group is updated.\n",
    "- **Status**: Pending\n"
   ]
  },
  {
   "cell_type": "markdown",
   "metadata": {},
   "source": [
    "## Step 8: End State\n",
    "- **State Number**: 8\n",
    "- **State Code**: \n",
    "- **State Name**: End State\n",
    "- **Description**: The process is completed, and the system terminates the process here.\n",
    "- **Status**: Completed\n"
   ]
  },
  {
   "cell_type": "markdown",
   "metadata": {},
   "source": []
  }
 ],
 "metadata": {
  "kernelspec": {
   "display_name": "Python 3",
   "language": "python",
   "name": "python3"
  },
  "language_info": {
   "name": "python",
   "version": "3.12.3"
  }
 },
 "nbformat": 4,
 "nbformat_minor": 2
}
